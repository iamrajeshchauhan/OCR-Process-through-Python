{
 "cells": [
  {
   "cell_type": "code",
   "execution_count": null,
   "metadata": {},
   "outputs": [],
   "source": [
    "#Python necessary pacakges!\n",
    "\n",
    "!pip install pytesseract\n",
    "!pip install wand\n",
    "!pip install wand==0.4.5\n",
    "!pip install pyocr\n",
    "!pip install pillow\n"
   ]
  },
  {
   "cell_type": "code",
   "execution_count": null,
   "metadata": {},
   "outputs": [],
   "source": [
    "# !pip install PIL\n",
    "# !pip install pdf2image\n",
    "# !pip install pypdf\n",
    "# !pip install pypdf2\n",
    "# !pip install textract\n",
    "# !pip install pdftotext"
   ]
  },
  {
   "cell_type": "code",
   "execution_count": 1,
   "metadata": {},
   "outputs": [],
   "source": [
    "#Call the library for the recipe\n",
    "\n",
    "from PIL import Image \n",
    "# import pyPdf\n",
    "import PyPDF2\n",
    "import textract\n",
    "# import pdftotext\n",
    "import pytesseract \n",
    "import sys \n",
    "from pdf2image import convert_from_path \n",
    "import argparse\n",
    "import os\n"
   ]
  },
  {
   "cell_type": "code",
   "execution_count": 2,
   "metadata": {},
   "outputs": [],
   "source": []
  },
  {
   "cell_type": "code",
   "execution_count": null,
   "metadata": {},
   "outputs": [],
   "source": [
    "#Another libraby for the OCR technique\n",
    "#!pip install ocrmypdf"
   ]
  },
  {
   "cell_type": "code",
   "execution_count": 1,
   "metadata": {},
   "outputs": [
    {
     "data": {
      "text/plain": [
       "'read_your_pdf_from_local_path.pdf'"
      ]
     },
     "execution_count": 1,
     "metadata": {},
     "output_type": "execute_result"
    }
   ],
   "source": [
    "# Read the files from your destination location\n",
    "PDF_file = \"read_your_pdf_from_local_path.pdf\" \n",
    "PDF_file"
   ]
  },
  {
   "cell_type": "code",
   "execution_count": null,
   "metadata": {},
   "outputs": [],
   "source": [
    "pdfReader = PyPDF2.PdfFileReader(\"read_your_pdf_from_local_path.pdf\", \"rb\")"
   ]
  },
  {
   "cell_type": "code",
   "execution_count": null,
   "metadata": {},
   "outputs": [],
   "source": [
    "#Method 1: Read the text from PDF and convert that into TEXT format.\n",
    "\n",
    "num_pages = pdfReader.numPages\n",
    "count = 0\n",
    "text = \"\"\n",
    "#The while loop will read each page\n",
    "while count < num_pages:\n",
    "    pageObj = pdfReader.getPage(count)\n",
    "    count +=1\n",
    "    text += pageObj.extractText()\n",
    "if text != \"\":\n",
    "   text = text\n",
    "#If the above returns as False, we run the OCR library textract to #convert scanned/image based PDF files into text\n",
    "else:\n",
    "   text = textract.process(fileurl, method='tesseract')\n",
    "#, language='eng')\n",
    " "
   ]
  },
  {
   "cell_type": "code",
   "execution_count": null,
   "metadata": {},
   "outputs": [],
   "source": [
    "#Output of PDF to TEXT conversion\n",
    "text"
   ]
  },
  {
   "cell_type": "code",
   "execution_count": 4,
   "metadata": {},
   "outputs": [],
   "source": [
    "#Method 2: Read the file from local as shared in the above steps and then convert that PDF to image for accurate results.\n",
    "#This method will convert all the PDF pages to Image first and save in the local destination.\n",
    "\n",
    "pages = convert_from_path(PDF_file, 100)"
   ]
  },
  {
   "cell_type": "code",
   "execution_count": 5,
   "metadata": {},
   "outputs": [],
   "source": [
    "#Conversion of above PDF pages into Image files with respective page numbers.\n",
    "\n",
    "image_counter = 1\n",
    "  \n",
    "# Iterate through all the pages stored above \n",
    "for page in pages: \n",
    "  \n",
    "    # Declaring filename for each page of PDF as JPG \n",
    "    # For each page, filename will be: \n",
    "    # PDF page 1 -> page_1.jpg \n",
    "    # PDF page 2 -> page_2.jpg \n",
    "    # PDF page 3 -> page_3.jpg \n",
    "    # .... \n",
    "    # PDF page n -> page_n.jpg \n",
    "    filename = \"page_\"+str(image_counter)+\".jpg\"\n",
    "      \n",
    "    # Save the image of the page in system \n",
    "    page.save(filename, 'JPEG') \n",
    "  \n",
    "    # Increment the counter to update filename \n",
    "    image_counter = image_counter + 1\n",
    "  "
   ]
  },
  {
   "cell_type": "code",
   "execution_count": 6,
   "metadata": {
    "scrolled": true
   },
   "outputs": [],
   "source": [
    "# This process will convert the Image to Text one by one and saved in the one final TEXT file output for the review.\n",
    "''' \n",
    "Part #2 - Recognizing text from the images using OCR \n",
    "'''\n",
    "    #3\n",
    "# Variable to get count of total number of pages \n",
    "filelimit = image_counter-1\n",
    "  \n",
    "# Creating a text file to write the output \n",
    "outfile = \"out_text.txt\"\n",
    "  \n",
    "# Open the file in append mode so that  \n",
    "# All contents of all images are added to the same file \n",
    "f = open(outfile, \"a\") \n",
    "  \n",
    "# Iterate from 1 to total number of pages \n",
    "for i in range(1, filelimit + 1): \n",
    "  \n",
    "    # Set filename to recognize text from \n",
    "    # Again, these files will be: \n",
    "    # page_1.jpg \n",
    "    # page_2.jpg \n",
    "    # .... \n",
    "    # page_n.jpg \n",
    "    filename = \"page_\"+str(i)+\".jpg\"\n",
    "          \n",
    "    # Recognize the text as string in image using pytesserct \n",
    "    text = str((pytesseract.image_to_string(Image.open(filename)))) \n",
    "  \n",
    "    # The recognized text is stored in variable text \n",
    "    # Any string processing may be applied on text \n",
    "    # Here, basic formatting has been done: \n",
    "    # In many PDFs, at line ending, if a word can't \n",
    "    # be written fully, a 'hyphen' is added. \n",
    "    # The rest of the word is written in the next line \n",
    "    # Eg: This is a sample text this word here GeeksF- \n",
    "    # orGeeks is half on first line, remaining on next. \n",
    "    # To remove this, we replace every '-\\n' to ''. \n",
    "   #text = text.replace('-\\n', '')     \n",
    "  \n",
    "    # Finally, write the processed text to the file. \n",
    "    f.write(text) \n",
    "  \n",
    "#Close the file after writing all the text. \n",
    "f.close() "
   ]
  }
 ],
 "metadata": {
  "kernelspec": {
   "display_name": "Python 3",
   "language": "python",
   "name": "python3"
  },
  "language_info": {
   "codemirror_mode": {
    "name": "ipython",
    "version": 3
   },
   "file_extension": ".py",
   "mimetype": "text/x-python",
   "name": "python",
   "nbconvert_exporter": "python",
   "pygments_lexer": "ipython3",
   "version": "3.7.3"
  }
 },
 "nbformat": 4,
 "nbformat_minor": 2
}
